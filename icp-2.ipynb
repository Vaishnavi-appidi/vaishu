{
  "nbformat": 4,
  "nbformat_minor": 0,
  "metadata": {
    "colab": {
      "provenance": [],
      "authorship_tag": "ABX9TyPFrZFfKe1kdxzH5ZYjj+ys",
      "include_colab_link": true
    },
    "kernelspec": {
      "name": "python3",
      "display_name": "Python 3"
    },
    "language_info": {
      "name": "python"
    }
  },
  "cells": [
    {
      "cell_type": "markdown",
      "metadata": {
        "id": "view-in-github",
        "colab_type": "text"
      },
      "source": [
        "<a href=\"https://colab.research.google.com/github/Vaishnavi-appidi/vaishu/blob/main/icp-2.ipynb\" target=\"_parent\"><img src=\"https://colab.research.google.com/assets/colab-badge.svg\" alt=\"Open In Colab\"/></a>"
      ]
    },
    {
      "cell_type": "code",
      "execution_count": 1,
      "metadata": {
        "colab": {
          "base_uri": "https://localhost:8080/"
        },
        "id": "uzX9FuPyaJbk",
        "outputId": "8317e5f3-7af5-4931-b72c-644f9c4cd70c"
      },
      "outputs": [
        {
          "output_type": "stream",
          "name": "stdout",
          "text": [
            "\r\n",
            "*\r\n",
            "**\r\n",
            "***\r\n",
            "****\r\n",
            "*****\r\n",
            "****\r\n",
            "***\r\n",
            "**\r\n",
            "*\r\n"
          ]
        }
      ],
      "source": [
        "star='*'\n",
        "for i in range(1,6):\n",
        "    for j in range (1,i):\n",
        "        print(\"*\",end='')\n",
        "    print(\"\\r\")\n",
        "for i in range(6,1, -1):\n",
        "    for j in range(1,i):\n",
        "        print(\"*\", end='')\n",
        "    print (\"\\r\")"
      ]
    },
    {
      "cell_type": "code",
      "source": [
        "\n",
        "# Online Python - IDE, Editor, Compiler, Interpreter\n",
        "\n",
        "my_list = [10, 20, 30, 40, 50, 60, 70, 80, 90, 100]\n",
        "for i in my_list[1::2]:\n",
        "    print(i, end=\" \")\n"
      ],
      "metadata": {
        "colab": {
          "base_uri": "https://localhost:8080/"
        },
        "id": "dM3UuJ5caWGT",
        "outputId": "b28521af-4884-447d-c892-89fb3758d526"
      },
      "execution_count": 2,
      "outputs": [
        {
          "output_type": "stream",
          "name": "stdout",
          "text": [
            "20 40 60 80 100 "
          ]
        }
      ]
    },
    {
      "cell_type": "code",
      "source": [
        "\n",
        "# Online Python - IDE, Editor, Compiler, Interpreter\n",
        "\n",
        "x = [23, 'Python', 23.98]\n",
        "types = []\n",
        "for i in x:\n",
        "    types.append(type(i))\n",
        "print(x)\n",
        "print(types)\n"
      ],
      "metadata": {
        "colab": {
          "base_uri": "https://localhost:8080/"
        },
        "id": "iOwGxaDRac_a",
        "outputId": "e2420635-b199-45b2-dda6-adeb414a9f94"
      },
      "execution_count": 3,
      "outputs": [
        {
          "output_type": "stream",
          "name": "stdout",
          "text": [
            "[23, 'Python', 23.98]\n",
            "[<class 'int'>, <class 'str'>, <class 'float'>]\n"
          ]
        }
      ]
    },
    {
      "cell_type": "code",
      "source": [
        "\n",
        "# Online Python - IDE, Editor, Compiler, Interpreter\n",
        "\n",
        "sample_List=[1,2,3,3,3,3,4,5]\n",
        "unique_List=[]\n",
        "for i in sample_List:\n",
        "    if i not in unique_List:\n",
        "        unique_List.append(i)\n",
        "print (sample_List)\n",
        "print (unique_List)\n"
      ],
      "metadata": {
        "colab": {
          "base_uri": "https://localhost:8080/"
        },
        "id": "hyFm7_X1ajCV",
        "outputId": "8b22b1be-d543-4b32-d957-73770e181fef"
      },
      "execution_count": 4,
      "outputs": [
        {
          "output_type": "stream",
          "name": "stdout",
          "text": [
            "[1, 2, 3, 3, 3, 3, 4, 5]\n",
            "[1, 2, 3, 4, 5]\n"
          ]
        }
      ]
    },
    {
      "cell_type": "code",
      "source": [
        "\n",
        "# Online Python - IDE, Editor, Compiler, Interpreter\n",
        "\n",
        "def count_case(string):\n",
        "    upper_count = 0\n",
        "    lower_count = 0\n",
        "    for char in string:\n",
        "        if char.isupper():\n",
        "            upper_count += 1\n",
        "        elif char.islower():\n",
        "            lower_count += 1\n",
        "    return upper_count, lower_count\n",
        "input_string = 'The quick Brow Fox'\n",
        "upper_count, lower_count = count_case(input_string)\n",
        "print(\"No. of Upper-case characters:\", upper_count)\n",
        "print(\"No. of Lower-case Characters:\", lower_count)\n"
      ],
      "metadata": {
        "colab": {
          "base_uri": "https://localhost:8080/"
        },
        "id": "qsHEfaZ8ao-q",
        "outputId": "7afc0c82-e56f-4324-8d45-781bf172945f"
      },
      "execution_count": 5,
      "outputs": [
        {
          "output_type": "stream",
          "name": "stdout",
          "text": [
            "No. of Upper-case characters: 3\n",
            "No. of Lower-case Characters: 12\n"
          ]
        }
      ]
    }
  ]
}