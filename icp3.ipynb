{
  "nbformat": 4,
  "nbformat_minor": 0,
  "metadata": {
    "colab": {
      "provenance": [],
      "authorship_tag": "ABX9TyO6Gn6tWbcRfl0otzkl0/PM",
      "include_colab_link": true
    },
    "kernelspec": {
      "name": "python3",
      "display_name": "Python 3"
    },
    "language_info": {
      "name": "python"
    }
  },
  "cells": [
    {
      "cell_type": "markdown",
      "metadata": {
        "id": "view-in-github",
        "colab_type": "text"
      },
      "source": [
        "<a href=\"https://colab.research.google.com/github/Vaishnavi-appidi/vaishu/blob/main/icp3.ipynb\" target=\"_parent\"><img src=\"https://colab.research.google.com/assets/colab-badge.svg\" alt=\"Open In Colab\"/></a>"
      ]
    },
    {
      "cell_type": "code",
      "source": [
        "import numpy as np\n",
        "# Generate an array of 15 random integers between 1 and 20\n",
        "vec= np.random.randint(1, 21, size=15)\n",
        "# Reshape to a 3x5 matrix\n",
        "arr= vec.reshape(3, 5)\n",
        "#print array shape\n",
        "print(\"Array shape:\", arr.shape)\n",
        "#replace max in each row by 0\n",
        "arr[np.arange(len(arr)),arr.argmax(axis=1)] = 0\n",
        "print(arr)"
      ],
      "metadata": {
        "colab": {
          "base_uri": "https://localhost:8080/"
        },
        "id": "2QlIgYEPcXA0",
        "outputId": "5436240c-392d-426f-9c04-daf7b9b8aa66"
      },
      "execution_count": 5,
      "outputs": [
        {
          "output_type": "stream",
          "name": "stdout",
          "text": [
            "Array shape: (3, 5)\n",
            "[[ 0  2  2  3  1]\n",
            " [ 4  2  0  1 17]\n",
            " [16 16  0 11 11]]\n"
          ]
        }
      ]
    },
    {
      "cell_type": "code",
      "source": [
        "import numpy as np\n",
        "# Create a 2D array (4x3) with specified integers\n",
        "b = np.array([[1, 2, 3], [4, 5, 6], [7, 8, 9], [10, 11, 12]], dtype=np.int32)\n",
        "#Print the type,shape and datatype of the array\n",
        "print(\"Array shape:\", b.shape)\n",
        "print(\"Array type:\", type(b))\n",
        "print(\"Array data type:\", b.dtype)\n",
        "print(b)"
      ],
      "metadata": {
        "colab": {
          "base_uri": "https://localhost:8080/"
        },
        "id": "1X2xPXNUd2Ne",
        "outputId": "7bb467de-8975-450b-ca21-b4b7c833c84a"
      },
      "execution_count": 6,
      "outputs": [
        {
          "output_type": "stream",
          "name": "stdout",
          "text": [
            "Array shape: (4, 3)\n",
            "Array type: <class 'numpy.ndarray'>\n",
            "Array data type: int32\n",
            "[[ 1  2  3]\n",
            " [ 4  5  6]\n",
            " [ 7  8  9]\n",
            " [10 11 12]]\n"
          ]
        }
      ]
    },
    {
      "cell_type": "code",
      "source": [
        "import numpy as np\n",
        "# Creating a 2x2 matrix\n",
        "c = np.array([[3, -2], [1, 0]])\n",
        "# eigenvalues and right eigenvectors of the matrix\n",
        "eigenvalues, eigenvectors = np.linalg.eig(c)\n",
        "print(\"Eigenvalues\", eigenvalues)\n",
        "print(\"Right eigenvectors:\")\n",
        "print(eigenvectors)"
      ],
      "metadata": {
        "colab": {
          "base_uri": "https://localhost:8080/"
        },
        "id": "CNdyzD0SegqS",
        "outputId": "b2f15978-5dcc-4ed1-9e0b-e2b333c09558"
      },
      "execution_count": 7,
      "outputs": [
        {
          "output_type": "stream",
          "name": "stdout",
          "text": [
            "Eigenvalues [2. 1.]\n",
            "Right eigenvectors:\n",
            "[[0.89442719 0.70710678]\n",
            " [0.4472136  0.70710678]]\n"
          ]
        }
      ]
    },
    {
      "cell_type": "code",
      "source": [
        "import numpy as np\n",
        "d= np.array([[0, 1, 2], [3, 4, 5]])\n",
        "# sum of the diagonal elements of the matrix\n",
        "sum= np.trace(d)\n",
        "print(\"Sum of diagonal elements:\", sum)"
      ],
      "metadata": {
        "colab": {
          "base_uri": "https://localhost:8080/"
        },
        "id": "GLKKkQlaey2p",
        "outputId": "0ff69451-24b5-427d-e767-ca09b68dc353"
      },
      "execution_count": 10,
      "outputs": [
        {
          "output_type": "stream",
          "name": "stdout",
          "text": [
            "Sum of diagonal elements: 4\n"
          ]
        }
      ]
    },
    {
      "cell_type": "code",
      "source": [
        "import numpy as np\n",
        "e= np.array([[1, 2], [3, 4], [5, 6]])\n",
        "# Reshape the matrix 3x2 and 2x3 matrix\n",
        "f= e.reshape((2, 3))\n",
        "g=e.reshape(3,2)\n",
        "print(\"Original array:\\n\", e)\n",
        "print(\"Reshaped array 2x3:\\n\", f)\n",
        "print(\"Reshaped array 3x2:\\n\", g)\n"
      ],
      "metadata": {
        "colab": {
          "base_uri": "https://localhost:8080/"
        },
        "id": "ASgAMmbRfJ2V",
        "outputId": "4f74696e-119f-4993-e163-1e18eb7592b7"
      },
      "execution_count": 15,
      "outputs": [
        {
          "output_type": "stream",
          "name": "stdout",
          "text": [
            "Original array:\n",
            " [[1 2]\n",
            " [3 4]\n",
            " [5 6]]\n",
            "Reshaped array 2x3:\n",
            " [[1 2 3]\n",
            " [4 5 6]]\n",
            "Reshaped array 3x2:\n",
            " [[1 2]\n",
            " [3 4]\n",
            " [5 6]]\n"
          ]
        }
      ]
    },
    {
      "cell_type": "code",
      "source": [],
      "metadata": {
        "id": "L7OEgm97f26W"
      },
      "execution_count": null,
      "outputs": []
    }
  ]
}